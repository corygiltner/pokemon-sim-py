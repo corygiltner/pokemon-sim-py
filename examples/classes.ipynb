{
 "cells": [
  {
   "cell_type": "markdown",
   "metadata": {},
   "source": [
    "# Exploring Classes\n",
    "\n",
    "Many times developers want to create software that can be reused in the program or shared across other programs. This concept is called [Extensibility](https://en.wikipedia.org/wiki/Extensibility), simply how easy is it to extend the program. Python - as well as other [object oriented languages](https://en.wikipedia.org/wiki/List_of_object-oriented_programming_languages) - contain classes. Classes are composed of attributes and methods that encapuslate shared functionality. To go indepth on classes we will four three main topics\n",
    "* Abstraction\n",
    "* Scope\n",
    "* Attributes (class) and instance variables\n",
    "* Inheritance\n",
    "\n",
    "## Abstraction\n",
    "\n",
    "When software is designed, we often model real-world details in code, called [abstraction](https://en.wikipedia.org/wiki/Abstraction_(computer_science)). To model our software after real-world details we want to model classes after things name like nouns ```Kart``` or ```Player``` and noun phrases like ```Driver```. Then to models actions we use functions and methods with verb names as in ```drive()``` or ```enter_in_race(driver)```. This makes sure we know and understand what our code is intended for and how it is used. Let's model out Mario Kart."
   ]
  },
  {
   "cell_type": "code",
   "execution_count": 13,
   "metadata": {},
   "outputs": [],
   "source": [
    "class Player:\n",
    "    number = 0\n",
    "    def __init__(self, handle):\n",
    "        self.handle = handle \n",
    "\n",
    "class Character:\n",
    "    name = \"\"\n",
    "    acceleration = 0\n",
    "    top_speed = 0\n",
    "    handling = 0\n",
    "    \n",
    "    def drift(self):\n",
    "        print(self.name + \" drifted\"); \n",
    "\n",
    "class Kart: \n",
    "    def __init__(self, character):\n",
    "        self.item\n",
    "        self.character = character\n",
    "        self.speed = 0\n",
    "        \n",
    "    def use_item(self):\n",
    "        return self.item\n",
    "    \n",
    "class LightWeightCharacter(Character):\n",
    "    acceleration = 3\n",
    "    top_speed = 3\n",
    "    handling = 3\n",
    "    \n",
    "    def triple_boost(self):\n",
    "        print(self.name + \" used triple boost\")\n",
    "    \n",
    "class MiddleWeightCharacter(Character):\n",
    "    acceleration = 2\n",
    "    top_speed = 2\n",
    "    handling = 2\n",
    "    \n",
    "class Toad(LightWeightCharacter):\n",
    "    name = \"Toad\"\n",
    "    \n",
    "class Peach(LightWeightCharacter):\n",
    "    name = \"Peach\"\n",
    "    \n",
    "class Mario(MiddleWeightCharacter):\n",
    "    name = \"Mario\"\n",
    "\n",
    "class Driver:\n",
    "    def __init__(self, player, character):\n",
    "        self.player = player\n",
    "        self.character = character\n",
    "\n",
    "class RaceCourse:\n",
    "    WARIO_STADIUM = \"Wario Stadium\"\n",
    "    YOSHI_VALLEY = \"Yoshi Valley\"\n",
    "    \n",
    "class Race:\n",
    "    def __init__(self, course):\n",
    "        self.course = \"\"\n",
    "        self.drivers = []\n",
    "    \n",
    "    def enter_in_race(self, driver):\n",
    "        self.drivers.append(driver)"
   ]
  },
  {
   "cell_type": "markdown",
   "metadata": {
    "pycharm": {
     "name": "#%% md\n"
    }
   },
   "source": [
    "## Scope\n",
    "Is the visibility of a specific variable or method. Since python is an object oriented programming language, classes define an object. To construct an object a class must be instantiated during the construction. The **init**ial method that is executed during instantiation is the __init__ method. This method requires a single parameter, self, a parameter refering to the instance of the object. "
   ]
  },
  {
   "cell_type": "code",
   "execution_count": 7,
   "metadata": {},
   "outputs": [],
   "source": [
    "player_one = Player(\"player_one\")"
   ]
  },
  {
   "cell_type": "markdown",
   "metadata": {},
   "source": [
    "Let's break this down; the variable ```player``` is an object of the class ```Player```. There is no need to pass self to the initial method because the compile odes that for us, we only have to supply a single argument of a string defining the players handle. When the object is constructed the string value \"player_one\" is passed into the method. In this method we defined the method sets the initialized variable ```self.handler``` to the value of \"player_one\". We can only access initialized variables if the class has been initialized. "
   ]
  },
  {
   "cell_type": "code",
   "execution_count": 8,
   "metadata": {},
   "outputs": [
    {
     "name": "stdout",
     "output_type": "stream",
     "text": [
      "player_one\n"
     ]
    }
   ],
   "source": [
    "print(player_one.handle)"
   ]
  },
  {
   "cell_type": "markdown",
   "metadata": {},
   "source": [
    "Here we can see that when we call the initialized variable ```handle```, the value \"player_one\" is returned and then printed to the console. Now if we try to access this variable before the class has been initialized then we receive an error. "
   ]
  },
  {
   "cell_type": "code",
   "execution_count": 9,
   "metadata": {},
   "outputs": [
    {
     "ename": "AttributeError",
     "evalue": "type object 'Player' has no attribute 'handle'",
     "output_type": "error",
     "traceback": [
      "\u001b[0;31m---------------------------------------------------------------------------\u001b[0m",
      "\u001b[0;31mAttributeError\u001b[0m                            Traceback (most recent call last)",
      "\u001b[0;32m<ipython-input-9-40db4b6c5632>\u001b[0m in \u001b[0;36m<module>\u001b[0;34m\u001b[0m\n\u001b[0;32m----> 1\u001b[0;31m \u001b[0mprint\u001b[0m\u001b[0;34m(\u001b[0m\u001b[0mPlayer\u001b[0m\u001b[0;34m.\u001b[0m\u001b[0mhandle\u001b[0m\u001b[0;34m)\u001b[0m\u001b[0;34m\u001b[0m\u001b[0;34m\u001b[0m\u001b[0m\n\u001b[0m",
      "\u001b[0;31mAttributeError\u001b[0m: type object 'Player' has no attribute 'handle'"
     ]
    }
   ],
   "source": [
    "print(Player.handle)"
   ]
  },
  {
   "cell_type": "markdown",
   "metadata": {},
   "source": [
    "## Attributes (class) and instance variables\n",
    "Attributes are variables that can be access outside of the scope of instantiation. Take the example of the class ```RaceCourse```. This class contains two constant attributes ```WARIO_STADIUM``` and ```YOSHI_VALLEY```, a standard in python is to name constants in SCREAMING_UPPER_CASE and a new value should not be set since it is *constant* even though the compiler does not enforce this. Now let's try to access this outside of an object. "
   ]
  },
  {
   "cell_type": "code",
   "execution_count": 10,
   "metadata": {},
   "outputs": [
    {
     "name": "stdout",
     "output_type": "stream",
     "text": [
      "Wario Stadium\n"
     ]
    }
   ],
   "source": [
    "print(RaceCourse.WARIO_STADIUM)"
   ]
  },
  {
   "cell_type": "markdown",
   "metadata": {},
   "source": [
    "## Inheritance\n",
    "Classes can access the functionality of a base class through inheritance. "
   ]
  },
  {
   "cell_type": "code",
   "execution_count": 14,
   "metadata": {},
   "outputs": [
    {
     "name": "stdout",
     "output_type": "stream",
     "text": [
      "Mario drifted\n",
      "Toad drifted\n",
      "Toad used triple boost\n"
     ]
    },
    {
     "ename": "AttributeError",
     "evalue": "'Mario' object has no attribute 'triple_boost'",
     "output_type": "error",
     "traceback": [
      "\u001b[0;31m---------------------------------------------------------------------------\u001b[0m",
      "\u001b[0;31mAttributeError\u001b[0m                            Traceback (most recent call last)",
      "\u001b[0;32m<ipython-input-14-0f24192f2222>\u001b[0m in \u001b[0;36m<module>\u001b[0;34m\u001b[0m\n\u001b[1;32m     13\u001b[0m \u001b[0;34m\u001b[0m\u001b[0m\n\u001b[1;32m     14\u001b[0m \u001b[0mdriver_two\u001b[0m\u001b[0;34m.\u001b[0m\u001b[0mcharacter\u001b[0m\u001b[0;34m.\u001b[0m\u001b[0mtriple_boost\u001b[0m\u001b[0;34m(\u001b[0m\u001b[0;34m)\u001b[0m\u001b[0;34m\u001b[0m\u001b[0;34m\u001b[0m\u001b[0m\n\u001b[0;32m---> 15\u001b[0;31m \u001b[0mdriver_one\u001b[0m\u001b[0;34m.\u001b[0m\u001b[0mcharacter\u001b[0m\u001b[0;34m.\u001b[0m\u001b[0mtriple_boost\u001b[0m\u001b[0;34m(\u001b[0m\u001b[0;34m)\u001b[0m\u001b[0;34m\u001b[0m\u001b[0;34m\u001b[0m\u001b[0m\n\u001b[0m",
      "\u001b[0;31mAttributeError\u001b[0m: 'Mario' object has no attribute 'triple_boost'"
     ]
    }
   ],
   "source": [
    "mario = Mario()\n",
    "driver_one = Driver(player_one, mario)\n",
    "race = Race(RaceCourse.WARIO_STADIUM)\n",
    "race.enter_in_race(driver_one)\n",
    "\n",
    "player_two = Player(\"player_two\")\n",
    "toad = Toad()\n",
    "driver_two = Driver(player_two, toad)\n",
    "race.enter_in_race(driver_two)\n",
    "\n",
    "driver_one.character.drift()\n",
    "driver_two.character.drift()\n",
    "\n",
    "driver_two.character.triple_boost()\n",
    "driver_one.character.triple_boost()"
   ]
  },
  {
   "cell_type": "code",
   "execution_count": null,
   "metadata": {},
   "outputs": [],
   "source": []
  }
 ],
 "metadata": {
  "kernelspec": {
   "display_name": "Python 3",
   "language": "python",
   "name": "python3"
  },
  "language_info": {
   "codemirror_mode": {
    "name": "ipython",
    "version": 3
   },
   "file_extension": ".py",
   "mimetype": "text/x-python",
   "name": "python",
   "nbconvert_exporter": "python",
   "pygments_lexer": "ipython3",
   "version": "3.7.6"
  }
 },
 "nbformat": 4,
 "nbformat_minor": 4
}
